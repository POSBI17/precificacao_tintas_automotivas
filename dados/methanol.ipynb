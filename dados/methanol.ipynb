{
 "cells": [
  {
   "cell_type": "code",
   "execution_count": 1,
   "metadata": {},
   "outputs": [],
   "source": [
    "from datetime import date\n",
    "from urllib.request import urlopen\n",
    "from urllib.parse import urljoin\n",
    "from bs4 import BeautifulSoup\n",
    "import pandas as pd\n",
    "\n",
    "#Methanol\n",
    "# fazer get da página Web\n",
    "init = 'http://sunsirs.com/uk/prodetail-856.html'\n",
    "get = urlopen(init)\n",
    "# recuperar o conteudo HTML\n",
    "html = get.read()\n",
    "bsObj = BeautifulSoup(html, \"html.parser\")\n",
    "tabela=bsObj('table')[0]\n",
    "dados=[elemento.text for elemento in tabela('td')[4:] if elemento.text != 'Energy']\n",
    "# read it into a dataframe:\n",
    "df = pd.DataFrame(dados)\n",
    "d = {'Material' : [dados[0], dados[3], dados[6],dados[9], dados[12], dados[15]],\n",
    "     'Preço' : [dados[1], dados[4], dados[7],dados[10], dados[13], dados[16]], \n",
    "     'Data' : [dados[2], dados[5],dados[8],dados[11], dados[14], dados[17]]     \n",
    "    }\n",
    "df = pd.DataFrame(d, index=['1', '2', '3', '4', '5', '6'])\n",
    "#exportar para o excel\n",
    "data_txt = date.today().strftime('%d_%m_%Y')\n",
    "df.to_excel(\"methanol_\"+data_txt+\".xlsx\")"
   ]
  },
  {
   "cell_type": "code",
   "execution_count": null,
   "metadata": {},
   "outputs": [],
   "source": []
  }
 ],
 "metadata": {
  "kernelspec": {
   "display_name": "Python 3",
   "language": "python",
   "name": "python3"
  },
  "language_info": {
   "codemirror_mode": {
    "name": "ipython",
    "version": 3
   },
   "file_extension": ".py",
   "mimetype": "text/x-python",
   "name": "python",
   "nbconvert_exporter": "python",
   "pygments_lexer": "ipython3",
   "version": "3.7.0"
  }
 },
 "nbformat": 4,
 "nbformat_minor": 2
}
