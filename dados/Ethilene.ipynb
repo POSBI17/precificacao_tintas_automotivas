{
 "cells": [
  {
   "cell_type": "code",
   "execution_count": 13,
   "metadata": {},
   "outputs": [],
   "source": [
    "from datetime import date\n",
    "from urllib.request import urlopen\n",
    "from urllib.parse import urljoin\n",
    "from bs4 import BeautifulSoup\n",
    "import pandas as pd\n",
    "\n",
    "#Methanol\n",
    "# fazer get da página Web\n",
    "init = 'http://sunsirs.com/uk/prodetail-856.html'\n",
    "get = urlopen(init)\n",
    "# recuperar o conteudo HTML\n",
    "html = get.read()\n",
    "bsObj = BeautifulSoup(html, \"html.parser\")\n",
    "tabela=bsObj('table')[0]\n",
    "dados=[elemento.text for elemento in tabela('td')[4:] if elemento.text != 'Chemical']\n",
    "# read it into a dataframe:\n",
    "df = pd.DataFrame(dados)\n",
    "d = {'Material' : [dados[0], dados[3], dados[6],dados[9], dados[12], dados[15]],\n",
    "     'Preço' : [dados[1], dados[4], dados[7],dados[10], dados[13], dados[16]], \n",
    "     'Data' : [dados[2], dados[5],dados[8],dados[11], dados[14], dados[17]]     \n",
    "    }\n",
    "df = pd.DataFrame(d, index=['1', '2', '3', '4', '5', '6'])\n",
    "#exportar para o excel\n",
    "data_txt = date.today().strftime('%d_%m_%Y')\n",
    "df.to_excel(\"Ethylenene_\"+data_txt+\".xlsx\")"
   ]
  },
  {
   "cell_type": "code",
   "execution_count": 11,
   "metadata": {},
   "outputs": [
    {
     "data": {
      "text/html": [
       "<div>\n",
       "<style scoped>\n",
       "    .dataframe tbody tr th:only-of-type {\n",
       "        vertical-align: middle;\n",
       "    }\n",
       "\n",
       "    .dataframe tbody tr th {\n",
       "        vertical-align: top;\n",
       "    }\n",
       "\n",
       "    .dataframe thead th {\n",
       "        text-align: right;\n",
       "    }\n",
       "</style>\n",
       "<table border=\"1\" class=\"dataframe\">\n",
       "  <thead>\n",
       "    <tr style=\"text-align: right;\">\n",
       "      <th></th>\n",
       "      <th>Material</th>\n",
       "      <th>Preço</th>\n",
       "      <th>Data</th>\n",
       "    </tr>\n",
       "  </thead>\n",
       "  <tbody>\n",
       "    <tr>\n",
       "      <th>1</th>\n",
       "      <td>Ethylene oxide</td>\n",
       "      <td>7500.00</td>\n",
       "      <td>2019-02-13</td>\n",
       "    </tr>\n",
       "    <tr>\n",
       "      <th>2</th>\n",
       "      <td>Ethylene oxide</td>\n",
       "      <td>7500.00</td>\n",
       "      <td>2019-02-12</td>\n",
       "    </tr>\n",
       "    <tr>\n",
       "      <th>3</th>\n",
       "      <td>Ethylene oxide</td>\n",
       "      <td>7500.00</td>\n",
       "      <td>2019-02-11</td>\n",
       "    </tr>\n",
       "    <tr>\n",
       "      <th>4</th>\n",
       "      <td>Ethylene oxide</td>\n",
       "      <td>7500.00</td>\n",
       "      <td>2019-02-10</td>\n",
       "    </tr>\n",
       "    <tr>\n",
       "      <th>5</th>\n",
       "      <td>Ethylene oxide</td>\n",
       "      <td>7500.00</td>\n",
       "      <td>2019-02-09</td>\n",
       "    </tr>\n",
       "    <tr>\n",
       "      <th>6</th>\n",
       "      <td>Ethylene oxide</td>\n",
       "      <td>7500.00</td>\n",
       "      <td>2019-02-08</td>\n",
       "    </tr>\n",
       "  </tbody>\n",
       "</table>\n",
       "</div>"
      ],
      "text/plain": [
       "         Material    Preço        Data\n",
       "1  Ethylene oxide  7500.00  2019-02-13\n",
       "2  Ethylene oxide  7500.00  2019-02-12\n",
       "3  Ethylene oxide  7500.00  2019-02-11\n",
       "4  Ethylene oxide  7500.00  2019-02-10\n",
       "5  Ethylene oxide  7500.00  2019-02-09\n",
       "6  Ethylene oxide  7500.00  2019-02-08"
      ]
     },
     "execution_count": 11,
     "metadata": {},
     "output_type": "execute_result"
    }
   ],
   "source": [
    "df1"
   ]
  },
  {
   "cell_type": "code",
   "execution_count": null,
   "metadata": {},
   "outputs": [],
   "source": []
  }
 ],
 "metadata": {
  "kernelspec": {
   "display_name": "Python 3",
   "language": "python",
   "name": "python3"
  },
  "language_info": {
   "codemirror_mode": {
    "name": "ipython",
    "version": 3
   },
   "file_extension": ".py",
   "mimetype": "text/x-python",
   "name": "python",
   "nbconvert_exporter": "python",
   "pygments_lexer": "ipython3",
   "version": "3.7.0"
  }
 },
 "nbformat": 4,
 "nbformat_minor": 2
}
