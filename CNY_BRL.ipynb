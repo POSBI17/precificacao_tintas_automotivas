{
 "cells": [
  {
   "cell_type": "code",
   "execution_count": 1,
   "metadata": {},
   "outputs": [
    {
     "name": "stdout",
     "output_type": "stream",
     "text": [
      "dados/CNY_BRL_03_03_2019.xlsx\n"
     ]
    }
   ],
   "source": [
    "from datetime import date\n",
    "from urllib.request import urlopen\n",
    "from urllib.parse import urljoin\n",
    "from bs4 import BeautifulSoup\n",
    "import pandas as pd\n",
    "import re\n",
    "\n",
    "init = 'https://pt.exchangerates.org.uk/historico/CNY-BRL.html'\n",
    "get = urlopen(init)\n",
    "# recuperar o conteudo HTML\n",
    "html = get.read()\n",
    "\n",
    "# cria objeto do BeautifulSoup\n",
    "bsObj = BeautifulSoup(html, \"html.parser\")\n",
    "\n",
    "#itera sobre as linhas da tabela\n",
    "aux = []\n",
    "rows = bsObj('tr')\n",
    "filterMoney = re.compile(r\".+=\\s([\\d\\.]+)\")\n",
    "for row in rows:\n",
    "    # recupera as colunas ignorando a coluna que possui a data por escrito\n",
    "    colunas = [coluna.text for coluna in row('td')[1:]]\n",
    "\n",
    "    # caso não tenha retornado colunas, passa para a próxima linha\n",
    "    if not colunas:\n",
    "        continue\n",
    "    \n",
    "    # formata as moedas\n",
    "    colunas[0] = filterMoney.match(colunas[0]).group(1)\n",
    "\n",
    "    # filtra a coluna de data \n",
    "    colunas[1] = colunas[1][-10:]\n",
    "    \n",
    "    aux.append(colunas)\n",
    "    \n",
    "# Cria o dataframe a partir do retorno\n",
    "df = pd.DataFrame(aux, columns = ['conversao', 'data'])\n",
    "df['moeda_original'] = 'CNY'\n",
    "df['moeda_conversao'] = 'BRL'\n",
    "\n",
    "#exportar para o excel\n",
    "data_txt = date.today().strftime('%d_%m_%Y')\n",
    "nome_arquivo = 'dados/' + 'CNY_BRL_' + data_txt + '.xlsx'\n",
    "df.to_excel(nome_arquivo)\n",
    "    \n",
    "# retorna onde o arquivo foi salvo\n",
    "print (nome_arquivo)"
   ]
  },
  {
   "cell_type": "code",
   "execution_count": null,
   "metadata": {},
   "outputs": [],
   "source": []
  }
 ],
 "metadata": {
  "kernelspec": {
   "display_name": "Python 3",
   "language": "python",
   "name": "python3"
  },
  "language_info": {
   "codemirror_mode": {
    "name": "ipython",
    "version": 3
   },
   "file_extension": ".py",
   "mimetype": "text/x-python",
   "name": "python",
   "nbconvert_exporter": "python",
   "pygments_lexer": "ipython3",
   "version": "3.7.0"
  }
 },
 "nbformat": 4,
 "nbformat_minor": 2
}
