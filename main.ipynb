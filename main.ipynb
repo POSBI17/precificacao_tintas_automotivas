{
 "cells": [
  {
   "cell_type": "code",
   "execution_count": 1,
   "metadata": {},
   "outputs": [],
   "source": [
    "# Carrega o loader de notebooks\n",
    "from crawler import crawler_commodity"
   ]
  },
  {
   "cell_type": "code",
   "execution_count": 2,
   "metadata": {},
   "outputs": [
    {
     "name": "stdout",
     "output_type": "stream",
     "text": [
      "dados/methanol_03_03_2019.xlsx\n",
      "dados/propyleno_03_03_2019.xlsx\n",
      "dados/ethylenene_03_03_2019.xlsx\n",
      "dados/xylene_03_03_2019.xlsx\n",
      "dados/benzene_03_03_2019.xlsx\n",
      "dados/urea_03_03_2019.xlsx\n",
      "dados/polysilicon_03_03_2019.xlsx\n",
      "dados/styrene_03_03_2019.xlsx\n",
      "dados/toluene_03_03_2019.xlsx\n",
      "dados/acetic_acid_03_03_2019.xlsx\n",
      "dados/pa_03_03_2019.xlsx\n",
      "dados/acrylic_acid_03_03_2019.xlsx\n",
      "dados/titanium_dioxide_03_03_2019.xlsx\n",
      "dados/maleic_anhydride_03_03_2019.xlsx\n",
      "dados/nitric_acid_03_03_2019.xlsx\n"
     ]
    }
   ],
   "source": [
    "commodities_list = [\n",
    "    'methanol',\n",
    "    'propyleno',\n",
    "    'ethylenene',\n",
    "    'xylene',\n",
    "    'benzene',\n",
    "    'urea',\n",
    "    'polysilicon',\n",
    "    'styrene',\n",
    "    'toluene',\n",
    "    'acetic_acid',\n",
    "    'pa',\n",
    "    'acrylic_acid',\n",
    "    'titanium_dioxide', \n",
    "    'maleic_anhydride',\n",
    "    'nitric_acid'    \n",
    "]\n",
    "for commodity in commodities_list:\n",
    "    print(crawler_commodity(commodity))"
   ]
  },
  {
   "cell_type": "code",
   "execution_count": null,
   "metadata": {},
   "outputs": [],
   "source": []
  }
 ],
 "metadata": {
  "kernelspec": {
   "display_name": "Python 3",
   "language": "python",
   "name": "python3"
  },
  "language_info": {
   "codemirror_mode": {
    "name": "ipython",
    "version": 3
   },
   "file_extension": ".py",
   "mimetype": "text/x-python",
   "name": "python",
   "nbconvert_exporter": "python",
   "pygments_lexer": "ipython3",
   "version": "3.7.0"
  }
 },
 "nbformat": 4,
 "nbformat_minor": 2
}
